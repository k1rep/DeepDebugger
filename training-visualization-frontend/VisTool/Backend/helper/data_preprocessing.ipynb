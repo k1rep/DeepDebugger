{
 "cells": [
  {
   "cell_type": "code",
   "execution_count": 1,
   "metadata": {},
   "outputs": [],
   "source": [
    "# preprocessing data to fit in DVI/TimeVis's format\n",
    "# import modules\n",
    "import sys\n",
    "import os\n",
    "import numpy as np\n",
    "import torch\n",
    "import json\n",
    "import collections"
   ]
  },
  {
   "cell_type": "code",
   "execution_count": 2,
   "metadata": {},
   "outputs": [],
   "source": [
    "CONTENT_PATH = \"/home/xianglin/projects/DVI_data/noisy/symmetric/mnist/20\"\n",
    "CONTENT_PATH = \"/home/xianglin/projects/DVI_data/noisy/symmetric/fmnist/20\"\n",
    "CONTENT_PATH = \"/home/xianglin/projects/DVI_data/noisy/symmetric/fmnist/10\"\n",
    "CONTENT_PATH = \"/home/xianglin/projects/DVI_data/noisy/symmetric/mnist/10\"\n",
    "CONTENT_PATH = \"/home/xianglin/projects/DVI_data/noisy/symmetric/cifar10/10\"\n",
    "CONTENT_PATH = \"/home/xianglin/projects/DVI_data/noisy/symmetric/cifar10/5\"\n",
    "CONTENT_PATH = \"/home/xianglin/projects/DVI_data/noisy/symmetric/fmnist/5\"\n",
    "CONTENT_PATH = \"/home/xianglin/projects/DVI_data/noisy/symmetric/mnist/5\""
   ]
  },
  {
   "cell_type": "code",
   "execution_count": 3,
   "metadata": {},
   "outputs": [],
   "source": [
    "sys.path.append(CONTENT_PATH)\n",
    "from config import config\n",
    "TRAINING_PARAMETER = config[\"TRAINING\"]\n",
    "NET = TRAINING_PARAMETER[\"NET\"]\n",
    "LEN = TRAINING_PARAMETER[\"train_num\"]\n",
    "EPOCH_START = config[\"EPOCH_START\"]\n",
    "EPOCH_END = config[\"EPOCH_END\"]\n",
    "EPOCH_PERIOD = config[\"EPOCH_PERIOD\"]\n",
    "import Model.model as subject_model\n",
    "net = eval(\"subject_model.{}()\".format(NET))\n",
    "model_path = os.path.join(CONTENT_PATH, \"Model\")"
   ]
  },
  {
   "cell_type": "code",
   "execution_count": 4,
   "metadata": {},
   "outputs": [],
   "source": [
    "index = list(range(LEN))\n",
    "for n_epoch in range(EPOCH_START,EPOCH_END + EPOCH_PERIOD, EPOCH_PERIOD):\n",
    "    m_path = os.path.join(model_path, \"epoch={:03d}.ckpt\".format(n_epoch-1))\n",
    "    save_param =  torch.load(m_path)\n",
    "    state_dict = save_param[\"state_dict\"]\n",
    "\n",
    "    order_dict =  collections.OrderedDict()\n",
    "    for key in state_dict.keys():\n",
    "        new_key = key.replace(\"model.\",\"\")\n",
    "        order_dict[new_key] = state_dict[key]\n",
    "\n",
    "    save_dir = os.path.join(model_path, \"Epoch_{}\".format((n_epoch) // EPOCH_PERIOD)) \n",
    "    if not os.path.exists(save_dir):\n",
    "        os.mkdir(save_dir)\n",
    "    torch.save(order_dict, os.path.join(save_dir, \"subject_model.pth\"))\n",
    "    with open(os.path.join(save_dir, \"index.json\"),\"w\") as f:\n",
    "        json.dump(index, f)\n",
    "    os.remove(m_path)"
   ]
  },
  {
   "cell_type": "code",
   "execution_count": null,
   "metadata": {},
   "outputs": [],
   "source": [
    "# index = np.random.choice(list(range(TRAIN_NUM)), size=select_num, replace=False).tolist()\n",
    "# test_idxs = np.random.choice(list(range(40000)), size=10000, replace=False).tolist()\n",
    "# for n_epoch in range(EPOCH_START,EPOCH_END + EPOCH_PERIOD, EPOCH_PERIOD):\n",
    "\n",
    "#     # state_dict =  torch.load(os.path.join(model_path, \"epoch={:03d}.ckpt\".format(n_epoch)))[\"state_dict\"]\n",
    "#     #\n",
    "#     # order_dict =  collections.OrderedDict()\n",
    "#     # for key in state_dict.keys():\n",
    "#     #     new_key = key.replace(\"model.\",\"\")\n",
    "#     #     order_dict[new_key] = state_dict[key]\n",
    "\n",
    "#     save_dir = os.path.join(model_path, \"Epoch_{}\".format((n_epoch) // EPOCH_PERIOD)) # TODO\n",
    "#     makedir_exist_ok(save_dir)\n",
    "#     # torch.save(order_dict, os.path.join(save_dir, \"subject_model.pth\"))\n",
    "#     with open(os.path.join(save_dir, \"index.json\"),\"w\") as f:\n",
    "#         json.dump(index, f)\n",
    "#     with open(os.path.join(save_dir, \"test_index.json\"),\"w\") as f:\n",
    "#         json.dump(test_idxs, f)\n"
   ]
  }
 ],
 "metadata": {
  "interpreter": {
   "hash": "aa7a9f36e1a1e240450dbe9cc8f6d8df1d5301f36681fb271c44fdd883236b60"
  },
  "kernelspec": {
   "display_name": "Python 3.7.11 ('SV': conda)",
   "language": "python",
   "name": "python3"
  },
  "language_info": {
   "codemirror_mode": {
    "name": "ipython",
    "version": 3
   },
   "file_extension": ".py",
   "mimetype": "text/x-python",
   "name": "python",
   "nbconvert_exporter": "python",
   "pygments_lexer": "ipython3",
   "version": "3.7.12"
  },
  "orig_nbformat": 4
 },
 "nbformat": 4,
 "nbformat_minor": 2
}
